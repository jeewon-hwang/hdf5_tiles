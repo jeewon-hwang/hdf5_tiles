{
 "cells": [
  {
   "cell_type": "code",
   "execution_count": 166,
   "metadata": {
    "collapsed": true
   },
   "outputs": [],
   "source": [
    "%%bash\n",
    "for i in 1 2 3 4 5 6 7 8 9;\n",
    "do\n",
    "    zcat ~/data/encode/hg19/E00${i}-H3K27me3.fc.signal.bigwig.genome.sorted.gz | head -n 1000000 | gzip > /tmp/bgcomp${i}\n",
    "done;"
   ]
  },
  {
   "cell_type": "code",
   "execution_count": 167,
   "metadata": {
    "collapsed": true
   },
   "outputs": [],
   "source": [
    "import gzip\n",
    "import numpy as np\n",
    "import os\n",
    "import os.path as op\n",
    "import time as time\n",
    "\n",
    "# \n",
    "#filepath = '/data/encode/hg19/E116-DNase.fc.signal.bigwig.bedGraph.genome.sorted.short.gz'\n",
    "filepath='/tmp/bgcomp1'"
   ]
  },
  {
   "cell_type": "code",
   "execution_count": 168,
   "metadata": {
    "collapsed": false
   },
   "outputs": [
    {
     "name": "stdout",
     "output_type": "stream",
     "text": [
      "time to read: 2.2976067066192627\n",
      "unique_values: 9905\n"
     ]
    }
   ],
   "source": [
    "t1 = time.time()\n",
    "uniq_values = set()\n",
    "\n",
    "with gzip.open(filepath, 'r') as f:\n",
    "    for n, line in enumerate(f):\n",
    "        parts = list(map(float, line.split()))\n",
    "        uniq_values.add(parts[2])\n",
    "\n",
    "print(\"time to read:\", time.time() - t1)\n",
    "print(\"unique_values:\", len(uniq_values))"
   ]
  },
  {
   "cell_type": "code",
   "execution_count": 172,
   "metadata": {
    "collapsed": false
   },
   "outputs": [],
   "source": [
    "import csv\n",
    "\n",
    "t1 = time.time()\n",
    "\n",
    "buffers = []\n",
    "\n",
    "for i in [1,2,3,4,5,6,7,8,9]:\n",
    "    filepath='/tmp/bgcomp{}'.format(i)\n",
    "    with gzip.open(filepath, 'rt') as f:\n",
    "        buffer = []\n",
    "        prev_value = 0\n",
    "\n",
    "        for n,line in enumerate(csv.reader(f, delimiter='\\t')):\n",
    "            parts = line\n",
    "\n",
    "            if parts[0] != 0:\n",
    "                buffer += [float(parts[2]) for i in range(int(parts[0]), int(parts[1]))]\n",
    "    buffers += [np.array(buffer)]\n",
    "min_length = min([len(b) for b in buffers])\n",
    "buffers = [b[:min_length] for b in buffers]\n",
    "buffers = [b / sum(b) for b in buffers]\n"
   ]
  },
  {
   "cell_type": "code",
   "execution_count": 173,
   "metadata": {
    "collapsed": false
   },
   "outputs": [],
   "source": [
    "indeces = np.random.choice(range(min_length), 10000)\n",
    "sub_buffers = [b[indeces] for b in buffers]"
   ]
  },
  {
   "cell_type": "code",
   "execution_count": 174,
   "metadata": {
    "collapsed": false
   },
   "outputs": [
    {
     "name": "stdout",
     "output_type": "stream",
     "text": [
      "one_d_colours [  9.74869861e-06   2.20621840e-07   3.69230656e-06  -6.47907681e-07\n",
      "  -2.54037642e-06  -3.65589585e-06  -3.34799457e-06  -2.43895346e-06\n",
      "  -1.03049904e-06]\n",
      "ix: [6 7 5 8 9 4 2 3 1]\n"
     ]
    }
   ],
   "source": [
    "from sklearn.decomposition import PCA\n",
    "pca = PCA(n_components=1)\n",
    "one_d_colours = pca.fit_transform(sub_buffers)[:,0]\n",
    "print(\"one_d_colours\", one_d_colours)\n",
    "ix = np.argsort(one_d_colours)\n",
    "print(\"ix:\", ix + 1)\n"
   ]
  },
  {
   "cell_type": "code",
   "execution_count": null,
   "metadata": {
    "collapsed": true
   },
   "outputs": [],
   "source": []
  }
 ],
 "metadata": {
  "kernelspec": {
   "display_name": "Python 3",
   "language": "python",
   "name": "python3"
  },
  "language_info": {
   "codemirror_mode": {
    "name": "ipython",
    "version": 3
   },
   "file_extension": ".py",
   "mimetype": "text/x-python",
   "name": "python",
   "nbconvert_exporter": "python",
   "pygments_lexer": "ipython3",
   "version": "3.4.3"
  }
 },
 "nbformat": 4,
 "nbformat_minor": 1
}
